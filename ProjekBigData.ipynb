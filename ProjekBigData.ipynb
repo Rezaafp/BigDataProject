{
 "cells": [
  {
   "cell_type": "code",
   "execution_count": 1,
   "id": "9dcad99f-eca8-4325-a4b8-e1f9b3c258f9",
   "metadata": {},
   "outputs": [],
   "source": [
    "import pandas as pd\n",
    "import ipywidgets as widgets\n",
    "from IPython.display import display, Markdown, clear_output"
   ]
  },
  {
   "cell_type": "code",
   "execution_count": 3,
   "id": "88af81c5-7e71-445e-8264-49343abbfdbf",
   "metadata": {},
   "outputs": [
    {
     "data": {
      "text/html": [
       "<div>\n",
       "<style scoped>\n",
       "    .dataframe tbody tr th:only-of-type {\n",
       "        vertical-align: middle;\n",
       "    }\n",
       "\n",
       "    .dataframe tbody tr th {\n",
       "        vertical-align: top;\n",
       "    }\n",
       "\n",
       "    .dataframe thead th {\n",
       "        text-align: right;\n",
       "    }\n",
       "</style>\n",
       "<table border=\"1\" class=\"dataframe\">\n",
       "  <thead>\n",
       "    <tr style=\"text-align: right;\">\n",
       "      <th></th>\n",
       "      <th>Gejala</th>\n",
       "      <th>Penyakit</th>\n",
       "      <th>Nama Latin</th>\n",
       "      <th>Penanganan</th>\n",
       "    </tr>\n",
       "  </thead>\n",
       "  <tbody>\n",
       "    <tr>\n",
       "      <th>0</th>\n",
       "      <td>tidak nafsu makan, kurus, diare, muntah</td>\n",
       "      <td>Cacingan</td>\n",
       "      <td>Helminthiasis</td>\n",
       "      <td>Pemberian obat cacing secara teratur, jaga keb...</td>\n",
       "    </tr>\n",
       "    <tr>\n",
       "      <th>1</th>\n",
       "      <td>tidak nafsu makan, bulu rontok, gatal-gatal, l...</td>\n",
       "      <td>Kudis/Jamur</td>\n",
       "      <td>Skabies</td>\n",
       "      <td>Pemberian obat antijamur/antiparasit, mandi de...</td>\n",
       "    </tr>\n",
       "    <tr>\n",
       "      <th>2</th>\n",
       "      <td>bulu rontok, dehidrasi, kurus, gatal-gatal, ku...</td>\n",
       "      <td>Pijal/Kutu/Caplak</td>\n",
       "      <td>Ektoparasit</td>\n",
       "      <td>Pemberian obat topikal/oral, jaga kebersihan l...</td>\n",
       "    </tr>\n",
       "    <tr>\n",
       "      <th>3</th>\n",
       "      <td>dehidrasi, kurus, diare, anemia (gusi putih), ...</td>\n",
       "      <td>Koksidiosis</td>\n",
       "      <td>Koksidiosis</td>\n",
       "      <td>Pemberian obat antioksida, pemberian cairan da...</td>\n",
       "    </tr>\n",
       "    <tr>\n",
       "      <th>4</th>\n",
       "      <td>anemia (gusi putih), keluar liur, flu, bersin-...</td>\n",
       "      <td>Radang tenggorokan</td>\n",
       "      <td>Feline Viral Rhinotracheitis</td>\n",
       "      <td>Pemberian obat antibiotik/anti-inflamasi/antiv...</td>\n",
       "    </tr>\n",
       "  </tbody>\n",
       "</table>\n",
       "</div>"
      ],
      "text/plain": [
       "                                              Gejala            Penyakit  \\\n",
       "0            tidak nafsu makan, kurus, diare, muntah            Cacingan   \n",
       "1  tidak nafsu makan, bulu rontok, gatal-gatal, l...         Kudis/Jamur   \n",
       "2  bulu rontok, dehidrasi, kurus, gatal-gatal, ku...   Pijal/Kutu/Caplak   \n",
       "3  dehidrasi, kurus, diare, anemia (gusi putih), ...         Koksidiosis   \n",
       "4  anemia (gusi putih), keluar liur, flu, bersin-...  Radang tenggorokan   \n",
       "\n",
       "                     Nama Latin  \\\n",
       "0                 Helminthiasis   \n",
       "1                       Skabies   \n",
       "2                   Ektoparasit   \n",
       "3                   Koksidiosis   \n",
       "4  Feline Viral Rhinotracheitis   \n",
       "\n",
       "                                          Penanganan  \n",
       "0  Pemberian obat cacing secara teratur, jaga keb...  \n",
       "1  Pemberian obat antijamur/antiparasit, mandi de...  \n",
       "2  Pemberian obat topikal/oral, jaga kebersihan l...  \n",
       "3  Pemberian obat antioksida, pemberian cairan da...  \n",
       "4  Pemberian obat antibiotik/anti-inflamasi/antiv...  "
      ]
     },
     "execution_count": 3,
     "metadata": {},
     "output_type": "execute_result"
    }
   ],
   "source": [
    "file_path = 'C:/Big Data/Projek/dataset_penyakit_kucing.csv'\n",
    "dataset = pd.read_csv(file_path, delimiter=';')\n",
    "\n",
    "# Menampilkan beberapa baris pertama untuk memastikan data terbaca dengan benar\n",
    "dataset.head()\n"
   ]
  },
  {
   "cell_type": "code",
   "execution_count": 5,
   "id": "9d00962a-3b87-4394-9db7-f3261ed3845c",
   "metadata": {},
   "outputs": [],
   "source": [
    "def diagnosa_penyakit(gejala_input, dataset):\n",
    "    hasil = []\n",
    "    for index, row in dataset.iterrows():\n",
    "        gejala = row['Gejala'].split(', ')\n",
    "        if all(gejala_ in gejala_input for gejala_ in gejala):\n",
    "            hasil.append((row['Penyakit'], row['Nama Latin'], row['Penanganan']))\n",
    "    \n",
    "    if hasil:\n",
    "        return hasil\n",
    "    else:\n",
    "        return None"
   ]
  },
  {
   "cell_type": "code",
   "execution_count": 13,
   "id": "0bbba26d-9155-4892-bfcc-54e44604f079",
   "metadata": {},
   "outputs": [
    {
     "name": "stdout",
     "output_type": "stream",
     "text": [
      "======================================================\n",
      "                    Daftar Gejala                     \n",
      "======================================================\n",
      "1. tidak nafsu makan \t13. kurus\n",
      "2. gelengkan kepala \t14. muntah\n",
      "3. bulu rontok \t\t15. gatal-gatal\n",
      "4. luka koreng \t\t16. dehidrasi\n",
      "5. kulit kemerahan \t17. tidak tenang\n",
      "6. anemia (gusi putih) \t18. lemas\n",
      "7. keluar liur \t\t19. flu\n",
      "8. bersin-bersin \t20. bengkak mata\n",
      "9. sesak nafas \t\t21. luka pada mulut\n",
      "10. ingusan \t\t22. demam\n",
      "11. telinga kesakitan \t23. bau busuk pada telinga\n",
      "12. diare \t\t24. telinga selalu kotor\n",
      "======================================================\n"
     ]
    },
    {
     "data": {
      "application/vnd.jupyter.widget-view+json": {
       "model_id": "f6d8f87addc14242a5fbee5e88954517",
       "version_major": 2,
       "version_minor": 0
      },
      "text/plain": [
       "Text(value='', description='Gejala:', placeholder='input gejala kucing, pisah dengan koma', style=TextStyle(de…"
      ]
     },
     "metadata": {},
     "output_type": "display_data"
    },
    {
     "data": {
      "application/vnd.jupyter.widget-view+json": {
       "model_id": "4b1dac6ea38d4ccaa32a9a78c4223862",
       "version_major": 2,
       "version_minor": 0
      },
      "text/plain": [
       "Button(description='Diagnosa', style=ButtonStyle())"
      ]
     },
     "metadata": {},
     "output_type": "display_data"
    },
    {
     "data": {
      "application/vnd.jupyter.widget-view+json": {
       "model_id": "91a779d9e1334860a1f5bbaa3b5da97b",
       "version_major": 2,
       "version_minor": 0
      },
      "text/plain": [
       "Output()"
      ]
     },
     "metadata": {},
     "output_type": "display_data"
    }
   ],
   "source": [
    "# Daftar gejala\n",
    "print(\"======================================================\")\n",
    "text = \"Daftar Gejala\"\n",
    "widht = 54\n",
    "print(text.center(widht))\n",
    "print(\"======================================================\")\n",
    "print(\"1. tidak nafsu makan \\t13. kurus\")\n",
    "print(\"2. gelengkan kepala \\t14. muntah\")\n",
    "print(\"3. bulu rontok \\t\\t15. gatal-gatal\")\n",
    "print(\"4. luka koreng \\t\\t16. dehidrasi\")\n",
    "print(\"5. kulit kemerahan \\t17. tidak tenang\")\n",
    "print(\"6. anemia (gusi putih) \\t18. lemas\")\n",
    "print(\"7. keluar liur \\t\\t19. flu\")\n",
    "print(\"8. bersin-bersin \\t20. bengkak mata\")\n",
    "print(\"9. sesak nafas \\t\\t21. luka pada mulut\")\n",
    "print(\"10. ingusan \\t\\t22. demam\")\n",
    "print(\"11. telinga kesakitan \\t23. bau busuk pada telinga\")\n",
    "print(\"12. diare \\t\\t24. telinga selalu kotor\")\n",
    "print(\"======================================================\")\n",
    "\n",
    "# Widget untuk input gejala\n",
    "gejala_text = widgets.Text(\n",
    "    value='',\n",
    "    placeholder='input gejala kucing, pisah dengan koma',\n",
    "    description='Gejala:',\n",
    "    style={'description_width': 'initial'}\n",
    ")\n",
    "\n",
    "# Tombol untuk melakukan diagnosa\n",
    "button = widgets.Button(description=\"Diagnosa\")\n",
    "\n",
    "# Area untuk menampilkan hasil\n",
    "output_area = widgets.Output()\n",
    "\n",
    "def on_button_click(b):\n",
    "    # Clear output area\n",
    "    with output_area:\n",
    "        clear_output()\n",
    "        \n",
    "        # Ambil gejala dari input dan lakukan diagnosa\n",
    "        gejala_input = [x.strip() for x in gejala_text.value.split(',')]\n",
    "        hasil = diagnosa_penyakit(gejala_input, dataset)\n",
    "        \n",
    "        if hasil:\n",
    "            for penyakit, nama_latin, penanganan in hasil:\n",
    "                display(Markdown(f\"### Penyakit: {penyakit}, Nama Latin: {nama_latin}\"))\n",
    "                display(Markdown(f\"**Penanganan:** {penanganan}\"))\n",
    "        else:\n",
    "            display(Markdown(\"**Penyakit tidak ditemukan. Disarankan konsultasi ke dokter hewan.**\"))\n",
    "\n",
    "button.on_click(on_button_click)\n",
    "\n",
    "# Menampilkan widget dan hasil\n",
    "display(gejala_text, button, output_area)\n"
   ]
  }
 ],
 "metadata": {
  "kernelspec": {
   "display_name": "Python 3 (ipykernel)",
   "language": "python",
   "name": "python3"
  },
  "language_info": {
   "codemirror_mode": {
    "name": "ipython",
    "version": 3
   },
   "file_extension": ".py",
   "mimetype": "text/x-python",
   "name": "python",
   "nbconvert_exporter": "python",
   "pygments_lexer": "ipython3",
   "version": "3.12.4"
  }
 },
 "nbformat": 4,
 "nbformat_minor": 5
}
